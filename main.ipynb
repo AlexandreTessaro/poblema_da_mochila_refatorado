{
 "cells": [
  {
   "cell_type": "code",
   "execution_count": 1,
   "id": "659c5c88",
   "metadata": {},
   "outputs": [],
   "source": [
    "import algBeeAlgorithm, algColonFormigas, algCuckoo, algEnxParticulas, algGeneticos\n",
    "import pandas as pd"
   ]
  },
  {
   "cell_type": "code",
   "execution_count": null,
   "id": "366ec078",
   "metadata": {},
   "outputs": [],
   "source": [
    "df_bee_algorithm = algBeeAlgorithm.main()\n",
    "df_colon_formigas = algColonFormigas.main()\n",
    "df_cuckoo = algCuckoo.main()\n",
    "df_enx_particulas = algEnxParticulas.main()\n",
    "df_geneticos = algGeneticos.main()\n",
    "\n",
    "df_tempos = pd.concat([df_bee_algorithm, df_colon_formigas, df_cuckoo, df_enx_particulas, df_geneticos], axis=0)\n",
    "df_tempos = df_tempos[['n_itens', 'tempo_execucao', 'algoritmo']].copy()\n",
    "df_tempos_pivot = df_tempos.pivot(index='n_itens', columns='algoritmo', values='tempo_execucao').reset_index()[['n_itens', 'Bee Algorithm', 'Algoritmo ACO', 'Cuckoo Search', 'PSO', 'Algoritmo Genético']]"
   ]
  },
  {
   "cell_type": "markdown",
   "id": "14cac277",
   "metadata": {},
   "source": [
    "# Relatório de Resultados: Algoritmos Bio-Inspirados"
   ]
  },
  {
   "cell_type": "markdown",
   "id": "50cae57c",
   "metadata": {},
   "source": [
    "## Equipe:\n",
    "* Gabriel Kasten\n",
    "* Gustavo Henrique Costa\n",
    "* Lucas Mendes Israel"
   ]
  },
  {
   "cell_type": "markdown",
   "id": "681d5528",
   "metadata": {},
   "source": [
    "## 1. Introdução\n",
    "\n",
    "Este relatório apresenta os resultados obtidos com a aplicação de algoritmos bio-inspirados na resolução do Problema da Mochila 0/1, um problema clássico de otimização combinatória. Os algoritmos analisados foram:"
   ]
  },
  {
   "cell_type": "markdown",
   "id": "83fe2ccc",
   "metadata": {},
   "source": [
    "## 2. Descrição do Funcionamento dos Algoritmos"
   ]
  },
  {
   "cell_type": "markdown",
   "id": "8b5e5900",
   "metadata": {},
   "source": [
    "### Bee Algorithm:\n",
    "O Bee Algorithm é inspirado no comportamento de coleta das abelhas. As abelhas exploram a vizinhança de uma solução para encontrar o néctar mais eficiente. No contexto do Problema da Mochila, cada abelha tenta encontrar uma combinação de itens que maximiza o valor total sem ultrapassar a capacidade da mochila."
   ]
  },
  {
   "cell_type": "markdown",
   "id": "459f372a",
   "metadata": {},
   "source": [
    "### Algoritmo ACO (Ant Colony Optimization):\n",
    "O ACO é baseado no comportamento das formigas para encontrar o caminho mais curto até uma fonte de comida. As formigas deixam trilhas de feromônio para orientar outras formigas. No Problema da Mochila, cada formiga constrói uma solução (um subconjunto de itens), e a solução é aprimorada ao longo do tempo com base na quantidade de feromônio depositado."
   ]
  },
  {
   "cell_type": "markdown",
   "id": "59df1cc3",
   "metadata": {},
   "source": [
    "### Cuckoo Search:\n",
    "O Cuckoo Search é inspirado no comportamento dos cucos, que colocam seus ovos nos ninhos de outras aves. O algoritmo envolve a troca de soluções entre um grupo de \"ninhos\" e a substituição de soluções menos promissoras por novas soluções geradas aleatoriamente."
   ]
  },
  {
   "cell_type": "markdown",
   "id": "1d86ecd9",
   "metadata": {},
   "source": [
    "### PSO (Particle Swarm Optimization):\n",
    "O PSO é baseado no comportamento coletivo de partículas que buscam encontrar o melhor caminho em um espaço de solução. Cada partícula ajusta sua posição e velocidade com base nas experiências passadas de si mesma e de suas vizinhas, buscando encontrar a melhor solução."
   ]
  },
  {
   "cell_type": "markdown",
   "id": "97cf3010",
   "metadata": {},
   "source": [
    "### Algoritmo Genético:\n",
    "O Algoritmo Genético é inspirado na seleção natural e nos processos de evolução. Ele utiliza operadores como seleção, cruzamento e mutação para evoluir uma população de soluções até encontrar a melhor solução possível para o Problema da Mochila."
   ]
  },
  {
   "cell_type": "markdown",
   "id": "9dad8c53",
   "metadata": {},
   "source": [
    "## 3. Resultados\n",
    "A tabela abaixo mostra os tempos de execução de cada algoritmo para diferentes instâncias do Problema da Mochila, com base em diferentes valores de n_itens:"
   ]
  },
  {
   "cell_type": "markdown",
   "id": "86530611",
   "metadata": {},
   "source": [
    "| Algoritmo        | n_itens | Bee Algorithm | Algoritmo ACO | Cuckoo Search | PSO       | Algoritmo Genético |\n",
    "|------------------|---------|---------------|---------------|---------------|-----------|--------------------|\n",
    "| **Instância 1**  | 5       | 0.00800       | 0.00457       | 0.00300       | 0.019850  | 0.00000            |\n",
    "| **Instância 2**  | 1000    | 0.85355       | 0.95148       | 0.30831       | 2.913163  | 0.01201            |\n",
    "| **Instância 3**  | 10000   | 8.23219       | 10.12230      | 3.09650       | 30.499538 | 0.11217            |"
   ]
  },
  {
   "cell_type": "markdown",
   "id": "ccd50918",
   "metadata": {},
   "source": [
    "3. Complexidade Assintótica (Big O)\n",
    "Algoritmo Genético (GA)\n",
    "Complexidade: O(n * P * G), onde:\n",
    "\n",
    "n é o número de itens (tamanho do espaço de solução).\n",
    "\n",
    "P é o número de indivíduos na população (tamanho da população).\n",
    "\n",
    "G é o número de gerações (quantas vezes o algoritmo executa iterações).\n",
    "\n",
    "Explicação: A complexidade é dominada pelo número de gerações e pelo tamanho da população. A cada geração, a população inteira é avaliada, o que torna o GA mais custoso em termos de tempo de execução, principalmente para grandes n.\n",
    "\n",
    "Algoritmo ACO (Ant Colony Optimization)\n",
    "Complexidade: O(n * M * I), onde:\n",
    "\n",
    "n é o número de itens.\n",
    "\n",
    "M é o número de formigas.\n",
    "\n",
    "I é o número de iterações.\n",
    "\n",
    "Explicação: O ACO avalia múltiplas soluções para cada formiga em cada iteração, o que significa que o tempo de execução depende linearmente do número de formigas e iterações.\n",
    "\n",
    "Cuckoo Search\n",
    "Complexidade: O(n * N * I), onde:\n",
    "\n",
    "n é o número de itens.\n",
    "\n",
    "N é o número de ninhos.\n",
    "\n",
    "I é o número de iterações.\n",
    "\n",
    "Explicação: O Cuckoo Search tem uma estrutura relativamente simples. A atualização dos ninhos e a busca de soluções através de voo de Lévy são diretas, mas o número de iterações pode impactar o desempenho.\n",
    "\n",
    "PSO (Particle Swarm Optimization)\n",
    "Complexidade: O(n * P * I), onde:\n",
    "\n",
    "n é o número de itens.\n",
    "\n",
    "P é o número de partículas.\n",
    "\n",
    "I é o número de iterações.\n",
    "\n",
    "Explicação: Similar ao ACO, PSO também é dependente do número de partículas e iterações. Cada partícula atualiza sua posição e velocidade a cada iteração, tornando o algoritmo relativamente custoso em termos de tempo de execução.\n",
    "\n",
    "Bee Algorithm\n",
    "Complexidade: O(n * P * I), onde:\n",
    "\n",
    "n é o número de itens.\n",
    "\n",
    "P é o número de abelhas.\n",
    "\n",
    "I é o número de iterações.\n",
    "\n",
    "Explicação: O Bee Algorithm, apesar de eficiente para pequenas instâncias, também depende do número de abelhas e iterações. A atualização das posições das abelhas e a busca local para vizinhos tornam sua complexidade relativamente baixa."
   ]
  },
  {
   "cell_type": "markdown",
   "id": "92e79a0d",
   "metadata": {},
   "source": [
    "### Observações:\n",
    "Para instâncias menores (5 itens), o tempo de execução é muito rápido, com todos os algoritmos apresentando resultados em milissegundos.\n",
    "\n",
    "Para instâncias maiores (1000 e 10000 itens), o desempenho de cada algoritmo varia significativamente. O Algoritmo Genético apresentou o melhor desempenho para n_itens = 5, mas à medida que o número de itens cresce, outros algoritmos como Bee Algorithm e Cuckoo Search mostraram melhor desempenho.\n",
    "\n",
    "PSO foi o algoritmo com o tempo de execução mais longo nas instâncias maiores."
   ]
  },
  {
   "cell_type": "markdown",
   "id": "4a18eeed",
   "metadata": {},
   "source": [
    "## 4. Exemplos de Entrada e Saída\n",
    "Exemplo de Entrada:\n",
    "Para a instância com 5 itens, temos os seguintes dados:\n",
    "\n",
    "Pesos: [2, 3, 4, 5, 1]\n",
    "\n",
    "Valores: [3, 4, 5, 6, 2]\n",
    "\n",
    "Capacidade da mochila: 5\n",
    "\n",
    "Exemplo de Saída:\n",
    "A solução pode consistir em selecionar os itens 1, 3 e 5, resultando no seguinte:\n",
    "\n",
    "Itens selecionados: [1, 0, 1, 0, 1]\n",
    "\n",
    "Valor total: 3 + 5 + 2 = 10\n",
    "\n",
    "Peso total: 2 + 4 + 1 = 7 (não ultrapassando a capacidade da mochila)"
   ]
  },
  {
   "cell_type": "markdown",
   "id": "5df96540",
   "metadata": {},
   "source": [
    "## 5. Dificuldades e Aprendizados"
   ]
  },
  {
   "cell_type": "markdown",
   "id": "9ab5c94b",
   "metadata": {},
   "source": [
    "### Dificuldades:"
   ]
  },
  {
   "cell_type": "markdown",
   "id": "3bcf31bf",
   "metadata": {},
   "source": [
    "#### Complexidade Computacional: \n",
    "\n",
    "À medida que o número de itens aumenta, a complexidade computacional dos algoritmos cresce significativamente, especialmente para o PSO e o Algoritmo Genético, que envolvem muitos cálculos e ajustes de parâmetros."
   ]
  },
  {
   "cell_type": "markdown",
   "id": "72fe76d2",
   "metadata": {},
   "source": [
    "#### Parâmetros dos Algoritmos: \n",
    "Encontrar os valores ideais para os parâmetros de cada algoritmo (como taxas de mutação, coeficientes no PSO, etc.) foi um desafio. Ajustes inadequados podem levar a soluções subótimas ou tempos de execução muito elevados."
   ]
  },
  {
   "cell_type": "markdown",
   "id": "3d023648",
   "metadata": {},
   "source": [
    "### Aprendizados:"
   ]
  },
  {
   "cell_type": "markdown",
   "id": "86f11eb2",
   "metadata": {},
   "source": [
    "#### Importância dos Parâmetros: \n",
    "O ajuste de parâmetros (como taxas de mutação no Algoritmo Genético ou coeficientes no PSO) teve um grande impacto no desempenho de cada algoritmo. A calibração precisa é essencial para garantir bons resultados."
   ]
  },
  {
   "cell_type": "markdown",
   "id": "c107006e",
   "metadata": {},
   "source": [
    "#### Uso de Algoritmos Bio-Inspirados: \n",
    "Observamos que os algoritmos bio-inspirados podem ser muito eficientes para resolver problemas de otimização, mas a escolha do algoritmo depende muito do tamanho da instância do problema."
   ]
  },
  {
   "cell_type": "markdown",
   "id": "2363f5ff",
   "metadata": {},
   "source": [
    "#### Experimentação e Ajustes: \n",
    "O processo de experimentação e ajustes finos foi fundamental para alcançar os melhores resultados, e o uso de diferentes algoritmos ajudou a comparar os pontos fortes e fracos de cada abordagem."
   ]
  },
  {
   "cell_type": "markdown",
   "id": "56f60062",
   "metadata": {},
   "source": [
    "## 6. Conclusões\n",
    "Este estudo comparou o desempenho de diferentes algoritmos bio-inspirados na solução do Problema da Mochila. Observamos que, enquanto algoritmos como o Bee Algorithm e o Cuckoo Search apresentaram melhor desempenho em instâncias maiores, o PSO e o Algoritmo Genético foram mais eficientes para instâncias menores.\n",
    "\n",
    "Os resultados destacam a importância de escolher o algoritmo certo com base no tamanho e na natureza do problema, e o impacto que parâmetros mal ajustados podem ter na eficiência dos algoritmos. A experimentação foi essencial para encontrar a solução ótima."
   ]
  }
 ],
 "metadata": {
  "kernelspec": {
   "display_name": "Python 3",
   "language": "python",
   "name": "python3"
  },
  "language_info": {
   "codemirror_mode": {
    "name": "ipython",
    "version": 3
   },
   "file_extension": ".py",
   "mimetype": "text/x-python",
   "name": "python",
   "nbconvert_exporter": "python",
   "pygments_lexer": "ipython3",
   "version": "3.12.4"
  }
 },
 "nbformat": 4,
 "nbformat_minor": 5
}
